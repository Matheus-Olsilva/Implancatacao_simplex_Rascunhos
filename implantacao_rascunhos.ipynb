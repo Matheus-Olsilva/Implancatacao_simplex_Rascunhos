{
 "cells": [
  {
   "cell_type": "markdown",
   "id": "69e0221c",
   "metadata": {},
   "source": [
    "### Simplex Revisado"
   ]
  },
  {
   "cell_type": "code",
   "execution_count": 1,
   "id": "f095322f",
   "metadata": {},
   "outputs": [
    {
     "data": {
      "text/plain": [
       "6-element Vector{Float64}:\n",
       " -3.0\n",
       " -1.0\n",
       "  0.0\n",
       "  0.0\n",
       "  0.0\n",
       "  0.0"
      ]
     },
     "metadata": {},
     "output_type": "display_data"
    }
   ],
   "source": [
    "A = [\n",
    "    1.0 1.0 1.0 0 0;\n",
    "    -1.0 1.0 0 1.0 0;\n",
    "    2.0 -1.0 0 0 1.0\n",
    "]\n",
    "\n",
    "b = [3.0;2.0;4.0]\n",
    "\n",
    "c = [-3.0;-1;0;0;0;0]"
   ]
  },
  {
   "cell_type": "code",
   "execution_count": 3,
   "id": "627b999b",
   "metadata": {},
   "outputs": [
    {
     "data": {
      "text/plain": [
       "4×4 Matrix{Float64}:\n",
       " 0.0  -1.0   0.0  -2.0\n",
       " 0.0   1.0  -0.0   2.0\n",
       " 1.0  -1.0   0.0   1.0\n",
       " 0.0   1.0   1.0   6.0"
      ]
     },
     "metadata": {},
     "output_type": "display_data"
    }
   ],
   "source": [
    "using LinearAlgebra\n",
    "\n",
    "IB = [2,3,5]\n",
    "\n",
    "B = A[:,IB]\n",
    "Binv = inv(B)\n",
    "[c[IB]' * Binv dot(c[IB], Binv,b);\n",
    "    Binv Binv*b]"
   ]
  },
  {
   "cell_type": "code",
   "execution_count": 5,
   "id": "b37a77fa",
   "metadata": {},
   "outputs": [
    {
     "data": {
      "text/plain": [
       "2-element Vector{Float64}:\n",
       " -4.0\n",
       "  1.0"
      ]
     },
     "metadata": {},
     "output_type": "display_data"
    }
   ],
   "source": [
    "IN = setdiff(1:5, IB)\n",
    "\n",
    "y = Binv' * c[IB]\n",
    "\n",
    "cnbarra = c[IN] - A[:,IN]' * y"
   ]
  },
  {
   "cell_type": "markdown",
   "id": "c6825ae3",
   "metadata": {},
   "source": [
    "se inversa de  $(J) < 0$ ⟹ $d = -b^{-1} A_j$"
   ]
  }
 ],
 "metadata": {
  "kernelspec": {
   "display_name": "Julia 1.11.5",
   "language": "julia",
   "name": "julia-1.11"
  },
  "language_info": {
   "file_extension": ".jl",
   "mimetype": "application/julia",
   "name": "julia",
   "version": "1.11.5"
  }
 },
 "nbformat": 4,
 "nbformat_minor": 5
}
